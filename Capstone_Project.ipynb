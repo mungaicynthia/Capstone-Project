{
  "nbformat": 4,
  "nbformat_minor": 0,
  "metadata": {
    "colab": {
      "provenance": [],
      "gpuType": "T4",
      "toc_visible": true,
      "authorship_tag": "ABX9TyNaNk19dqZ4pFvcu7okIfyk",
      "include_colab_link": true
    },
    "kernelspec": {
      "name": "python3",
      "display_name": "Python 3"
    },
    "language_info": {
      "name": "python"
    },
    "accelerator": "GPU"
  },
  "cells": [
    {
      "cell_type": "markdown",
      "metadata": {
        "id": "view-in-github",
        "colab_type": "text"
      },
      "source": [
        "<a href=\"https://colab.research.google.com/github/mungaicynthia/Capstone-Project/blob/main/Capstone_Project.ipynb\" target=\"_parent\"><img src=\"https://colab.research.google.com/assets/colab-badge.svg\" alt=\"Open In Colab\"/></a>"
      ]
    },
    {
      "cell_type": "code",
      "source": [
        "\n",
        "!pip install xgboost --quiet\n",
        "!pip install scikit-learn pandas matplotlib seaborn --quiet\n"
      ],
      "metadata": {
        "id": "jTVeClaiFdB5"
      },
      "execution_count": null,
      "outputs": []
    },
    {
      "cell_type": "code",
      "source": [
        "import pandas as pd\n",
        "import numpy as np\n",
        "import matplotlib.pyplot as plt\n",
        "import seaborn as sns\n",
        "\n",
        "from sklearn.model_selection import train_test_split\n",
        "from sklearn.feature_extraction.text import TfidfVectorizer\n",
        "from sklearn.linear_model import LogisticRegression\n",
        "from sklearn.metrics import classification_report, confusion_matrix\n",
        "from sklearn.preprocessing import LabelEncoder\n",
        "import xgboost as xgb\n"
      ],
      "metadata": {
        "id": "GEubgxJUGImE"
      },
      "execution_count": null,
      "outputs": []
    },
    {
      "cell_type": "code",
      "source": [
        "# Loading the dataset\n",
        "df = pd.read_csv('/content/data_to_be_cleansed.csv')\n",
        "\n",
        "\n",
        "df.head()\n"
      ],
      "metadata": {
        "colab": {
          "base_uri": "https://localhost:8080/",
          "height": 206
        },
        "id": "ky2iCnPwGtC9",
        "outputId": "591aed14-7495-4180-a9af-6fa251571a9a"
      },
      "execution_count": null,
      "outputs": [
        {
          "output_type": "execute_result",
          "data": {
            "text/plain": [
              "   Unnamed: 0                                               text  \\\n",
              "0           0  Welcome to /r/depression's check-in post - a p...   \n",
              "1           1  We understand that most people who reply immed...   \n",
              "2           2  Anyone else just miss physical touch? I crave ...   \n",
              "3           3  I’m just so ashamed. Everyone and everything f...   \n",
              "4           4  I really need a friend. I don't even have a si...   \n",
              "\n",
              "                                               title  target  \n",
              "0  Regular check-in post, with information about ...       1  \n",
              "1  Our most-broken and least-understood rules is ...       1  \n",
              "2  I haven’t been touched, or even hugged, in so ...       1  \n",
              "3                    Being Depressed is Embarrassing       1  \n",
              "4  I'm desperate for a friend and to feel loved b...       1  "
            ],
            "text/html": [
              "\n",
              "  <div id=\"df-88aae6ef-d434-41a5-a58e-86dde264cc2a\" class=\"colab-df-container\">\n",
              "    <div>\n",
              "<style scoped>\n",
              "    .dataframe tbody tr th:only-of-type {\n",
              "        vertical-align: middle;\n",
              "    }\n",
              "\n",
              "    .dataframe tbody tr th {\n",
              "        vertical-align: top;\n",
              "    }\n",
              "\n",
              "    .dataframe thead th {\n",
              "        text-align: right;\n",
              "    }\n",
              "</style>\n",
              "<table border=\"1\" class=\"dataframe\">\n",
              "  <thead>\n",
              "    <tr style=\"text-align: right;\">\n",
              "      <th></th>\n",
              "      <th>Unnamed: 0</th>\n",
              "      <th>text</th>\n",
              "      <th>title</th>\n",
              "      <th>target</th>\n",
              "    </tr>\n",
              "  </thead>\n",
              "  <tbody>\n",
              "    <tr>\n",
              "      <th>0</th>\n",
              "      <td>0</td>\n",
              "      <td>Welcome to /r/depression's check-in post - a p...</td>\n",
              "      <td>Regular check-in post, with information about ...</td>\n",
              "      <td>1</td>\n",
              "    </tr>\n",
              "    <tr>\n",
              "      <th>1</th>\n",
              "      <td>1</td>\n",
              "      <td>We understand that most people who reply immed...</td>\n",
              "      <td>Our most-broken and least-understood rules is ...</td>\n",
              "      <td>1</td>\n",
              "    </tr>\n",
              "    <tr>\n",
              "      <th>2</th>\n",
              "      <td>2</td>\n",
              "      <td>Anyone else just miss physical touch? I crave ...</td>\n",
              "      <td>I haven’t been touched, or even hugged, in so ...</td>\n",
              "      <td>1</td>\n",
              "    </tr>\n",
              "    <tr>\n",
              "      <th>3</th>\n",
              "      <td>3</td>\n",
              "      <td>I’m just so ashamed. Everyone and everything f...</td>\n",
              "      <td>Being Depressed is Embarrassing</td>\n",
              "      <td>1</td>\n",
              "    </tr>\n",
              "    <tr>\n",
              "      <th>4</th>\n",
              "      <td>4</td>\n",
              "      <td>I really need a friend. I don't even have a si...</td>\n",
              "      <td>I'm desperate for a friend and to feel loved b...</td>\n",
              "      <td>1</td>\n",
              "    </tr>\n",
              "  </tbody>\n",
              "</table>\n",
              "</div>\n",
              "    <div class=\"colab-df-buttons\">\n",
              "\n",
              "  <div class=\"colab-df-container\">\n",
              "    <button class=\"colab-df-convert\" onclick=\"convertToInteractive('df-88aae6ef-d434-41a5-a58e-86dde264cc2a')\"\n",
              "            title=\"Convert this dataframe to an interactive table.\"\n",
              "            style=\"display:none;\">\n",
              "\n",
              "  <svg xmlns=\"http://www.w3.org/2000/svg\" height=\"24px\" viewBox=\"0 -960 960 960\">\n",
              "    <path d=\"M120-120v-720h720v720H120Zm60-500h600v-160H180v160Zm220 220h160v-160H400v160Zm0 220h160v-160H400v160ZM180-400h160v-160H180v160Zm440 0h160v-160H620v160ZM180-180h160v-160H180v160Zm440 0h160v-160H620v160Z\"/>\n",
              "  </svg>\n",
              "    </button>\n",
              "\n",
              "  <style>\n",
              "    .colab-df-container {\n",
              "      display:flex;\n",
              "      gap: 12px;\n",
              "    }\n",
              "\n",
              "    .colab-df-convert {\n",
              "      background-color: #E8F0FE;\n",
              "      border: none;\n",
              "      border-radius: 50%;\n",
              "      cursor: pointer;\n",
              "      display: none;\n",
              "      fill: #1967D2;\n",
              "      height: 32px;\n",
              "      padding: 0 0 0 0;\n",
              "      width: 32px;\n",
              "    }\n",
              "\n",
              "    .colab-df-convert:hover {\n",
              "      background-color: #E2EBFA;\n",
              "      box-shadow: 0px 1px 2px rgba(60, 64, 67, 0.3), 0px 1px 3px 1px rgba(60, 64, 67, 0.15);\n",
              "      fill: #174EA6;\n",
              "    }\n",
              "\n",
              "    .colab-df-buttons div {\n",
              "      margin-bottom: 4px;\n",
              "    }\n",
              "\n",
              "    [theme=dark] .colab-df-convert {\n",
              "      background-color: #3B4455;\n",
              "      fill: #D2E3FC;\n",
              "    }\n",
              "\n",
              "    [theme=dark] .colab-df-convert:hover {\n",
              "      background-color: #434B5C;\n",
              "      box-shadow: 0px 1px 3px 1px rgba(0, 0, 0, 0.15);\n",
              "      filter: drop-shadow(0px 1px 2px rgba(0, 0, 0, 0.3));\n",
              "      fill: #FFFFFF;\n",
              "    }\n",
              "  </style>\n",
              "\n",
              "    <script>\n",
              "      const buttonEl =\n",
              "        document.querySelector('#df-88aae6ef-d434-41a5-a58e-86dde264cc2a button.colab-df-convert');\n",
              "      buttonEl.style.display =\n",
              "        google.colab.kernel.accessAllowed ? 'block' : 'none';\n",
              "\n",
              "      async function convertToInteractive(key) {\n",
              "        const element = document.querySelector('#df-88aae6ef-d434-41a5-a58e-86dde264cc2a');\n",
              "        const dataTable =\n",
              "          await google.colab.kernel.invokeFunction('convertToInteractive',\n",
              "                                                    [key], {});\n",
              "        if (!dataTable) return;\n",
              "\n",
              "        const docLinkHtml = 'Like what you see? Visit the ' +\n",
              "          '<a target=\"_blank\" href=https://colab.research.google.com/notebooks/data_table.ipynb>data table notebook</a>'\n",
              "          + ' to learn more about interactive tables.';\n",
              "        element.innerHTML = '';\n",
              "        dataTable['output_type'] = 'display_data';\n",
              "        await google.colab.output.renderOutput(dataTable, element);\n",
              "        const docLink = document.createElement('div');\n",
              "        docLink.innerHTML = docLinkHtml;\n",
              "        element.appendChild(docLink);\n",
              "      }\n",
              "    </script>\n",
              "  </div>\n",
              "\n",
              "\n",
              "<div id=\"df-8967fd90-cf07-48bf-9fd9-7b6461e5beed\">\n",
              "  <button class=\"colab-df-quickchart\" onclick=\"quickchart('df-8967fd90-cf07-48bf-9fd9-7b6461e5beed')\"\n",
              "            title=\"Suggest charts\"\n",
              "            style=\"display:none;\">\n",
              "\n",
              "<svg xmlns=\"http://www.w3.org/2000/svg\" height=\"24px\"viewBox=\"0 0 24 24\"\n",
              "     width=\"24px\">\n",
              "    <g>\n",
              "        <path d=\"M19 3H5c-1.1 0-2 .9-2 2v14c0 1.1.9 2 2 2h14c1.1 0 2-.9 2-2V5c0-1.1-.9-2-2-2zM9 17H7v-7h2v7zm4 0h-2V7h2v10zm4 0h-2v-4h2v4z\"/>\n",
              "    </g>\n",
              "</svg>\n",
              "  </button>\n",
              "\n",
              "<style>\n",
              "  .colab-df-quickchart {\n",
              "      --bg-color: #E8F0FE;\n",
              "      --fill-color: #1967D2;\n",
              "      --hover-bg-color: #E2EBFA;\n",
              "      --hover-fill-color: #174EA6;\n",
              "      --disabled-fill-color: #AAA;\n",
              "      --disabled-bg-color: #DDD;\n",
              "  }\n",
              "\n",
              "  [theme=dark] .colab-df-quickchart {\n",
              "      --bg-color: #3B4455;\n",
              "      --fill-color: #D2E3FC;\n",
              "      --hover-bg-color: #434B5C;\n",
              "      --hover-fill-color: #FFFFFF;\n",
              "      --disabled-bg-color: #3B4455;\n",
              "      --disabled-fill-color: #666;\n",
              "  }\n",
              "\n",
              "  .colab-df-quickchart {\n",
              "    background-color: var(--bg-color);\n",
              "    border: none;\n",
              "    border-radius: 50%;\n",
              "    cursor: pointer;\n",
              "    display: none;\n",
              "    fill: var(--fill-color);\n",
              "    height: 32px;\n",
              "    padding: 0;\n",
              "    width: 32px;\n",
              "  }\n",
              "\n",
              "  .colab-df-quickchart:hover {\n",
              "    background-color: var(--hover-bg-color);\n",
              "    box-shadow: 0 1px 2px rgba(60, 64, 67, 0.3), 0 1px 3px 1px rgba(60, 64, 67, 0.15);\n",
              "    fill: var(--button-hover-fill-color);\n",
              "  }\n",
              "\n",
              "  .colab-df-quickchart-complete:disabled,\n",
              "  .colab-df-quickchart-complete:disabled:hover {\n",
              "    background-color: var(--disabled-bg-color);\n",
              "    fill: var(--disabled-fill-color);\n",
              "    box-shadow: none;\n",
              "  }\n",
              "\n",
              "  .colab-df-spinner {\n",
              "    border: 2px solid var(--fill-color);\n",
              "    border-color: transparent;\n",
              "    border-bottom-color: var(--fill-color);\n",
              "    animation:\n",
              "      spin 1s steps(1) infinite;\n",
              "  }\n",
              "\n",
              "  @keyframes spin {\n",
              "    0% {\n",
              "      border-color: transparent;\n",
              "      border-bottom-color: var(--fill-color);\n",
              "      border-left-color: var(--fill-color);\n",
              "    }\n",
              "    20% {\n",
              "      border-color: transparent;\n",
              "      border-left-color: var(--fill-color);\n",
              "      border-top-color: var(--fill-color);\n",
              "    }\n",
              "    30% {\n",
              "      border-color: transparent;\n",
              "      border-left-color: var(--fill-color);\n",
              "      border-top-color: var(--fill-color);\n",
              "      border-right-color: var(--fill-color);\n",
              "    }\n",
              "    40% {\n",
              "      border-color: transparent;\n",
              "      border-right-color: var(--fill-color);\n",
              "      border-top-color: var(--fill-color);\n",
              "    }\n",
              "    60% {\n",
              "      border-color: transparent;\n",
              "      border-right-color: var(--fill-color);\n",
              "    }\n",
              "    80% {\n",
              "      border-color: transparent;\n",
              "      border-right-color: var(--fill-color);\n",
              "      border-bottom-color: var(--fill-color);\n",
              "    }\n",
              "    90% {\n",
              "      border-color: transparent;\n",
              "      border-bottom-color: var(--fill-color);\n",
              "    }\n",
              "  }\n",
              "</style>\n",
              "\n",
              "  <script>\n",
              "    async function quickchart(key) {\n",
              "      const quickchartButtonEl =\n",
              "        document.querySelector('#' + key + ' button');\n",
              "      quickchartButtonEl.disabled = true;  // To prevent multiple clicks.\n",
              "      quickchartButtonEl.classList.add('colab-df-spinner');\n",
              "      try {\n",
              "        const charts = await google.colab.kernel.invokeFunction(\n",
              "            'suggestCharts', [key], {});\n",
              "      } catch (error) {\n",
              "        console.error('Error during call to suggestCharts:', error);\n",
              "      }\n",
              "      quickchartButtonEl.classList.remove('colab-df-spinner');\n",
              "      quickchartButtonEl.classList.add('colab-df-quickchart-complete');\n",
              "    }\n",
              "    (() => {\n",
              "      let quickchartButtonEl =\n",
              "        document.querySelector('#df-8967fd90-cf07-48bf-9fd9-7b6461e5beed button');\n",
              "      quickchartButtonEl.style.display =\n",
              "        google.colab.kernel.accessAllowed ? 'block' : 'none';\n",
              "    })();\n",
              "  </script>\n",
              "</div>\n",
              "\n",
              "    </div>\n",
              "  </div>\n"
            ],
            "application/vnd.google.colaboratory.intrinsic+json": {
              "type": "dataframe",
              "variable_name": "df",
              "summary": "{\n  \"name\": \"df\",\n  \"rows\": 5957,\n  \"fields\": [\n    {\n      \"column\": \"Unnamed: 0\",\n      \"properties\": {\n        \"dtype\": \"number\",\n        \"std\": 344,\n        \"min\": 0,\n        \"max\": 1201,\n        \"num_unique_values\": 1202,\n        \"samples\": [\n          1133,\n          425,\n          78\n        ],\n        \"semantic_type\": \"\",\n        \"description\": \"\"\n      }\n    },\n    {\n      \"column\": \"text\",\n      \"properties\": {\n        \"dtype\": \"string\",\n        \"num_unique_values\": 4420,\n        \"samples\": [\n          \"I will admit that I\\u2019m a bit of a hypochondriac and have a lot of anxiety surrounding my health, but I\\u2019m experiencing something I\\u2019ve never gone through before. Since Sunday evening, my whole body has been in extreme pain and I just have that feeling I get when I\\u2019m sick with something like a cold or the flu. But those are my only symptoms. I\\u2019ve had 2 negative Covid tests and just got a negative flu test from the doctor where they also did some lab work and gave me a prescription for my pain. \\n\\nThe only other explanation I can think of for the cause of this is that I got extremely depressed and stressed out last week. I\\u2019m not new to stress or depression though, and I\\u2019ve never had this type of reaction before.\\n\\nJust wondered if anyone had any ideas or has experienced anything like this.  I\\u2019m worried this is all in my head even though my pain feels very real and severe, and it doesn\\u2019t seem to be letting up at all.\",\n          \"So I'm 33 and I'll be 34 in March. Right now I'm working at McDonald's but I'm having issues with scheduling so I'm looking for another job. I do have an AAS but I never used it so I'm tryna get back into school or into a certification program but I don't wanna end up in debt. I keep wondering where I'll end up cuz I do wanna move but I don't drive so I'm tryna get an ebike but I still wanna move out of this city (I'm in Ohio) I just keep wondering if I can get ahead in life. I know I'm taking the right steps by working and thinking of school but it's still stressful cuz I'm tryna think ahead but maybe I'm thinking too much about it \\ud83d\\ude14 anybody else feel like this?\",\n          \"Hey guys. I\\u2019m struggling financially atm big time. Last year I had to take over 4 months off and was in hospital for 3 months due to a very severe episode. I\\u2019ve returned to work since then but part time, and I can\\u2019t seem to catch up on the costs of living with my income. The craziest thing is that I\\u2019m a doctor (registrar- speciality training) and I still don\\u2019t make enough to live. My partner is supporting me as much as possible but he\\u2019s struggling too. I feel so ashamed and defeated. I can\\u2019t work more currently as I only just increased my hours and the stress and fatigue is full on right now. I have no parental support or other supports. After graduating med school I finally had financial freedom and was doing well. My relapse last year has cost me more than my health and it\\u2019s a real struggle to go back living week to week and paycheck to paycheck- I\\u2019ve been poor my entire life apart from when I first graduated. \\nIs anyone else in the same boat and if so how do you come to terms with it? The situation makes me feel like I\\u2019m a failure and I feel really embarrassed. Hope everyone is doing ok and thanks to this sub.\"\n        ],\n        \"semantic_type\": \"\",\n        \"description\": \"\"\n      }\n    },\n    {\n      \"column\": \"title\",\n      \"properties\": {\n        \"dtype\": \"string\",\n        \"num_unique_values\": 4651,\n        \"samples\": [\n          \"Burning sensation in right side of the face only\",\n          \"I look like how I want to.\",\n          \"there is no day when I don't want to die\"\n        ],\n        \"semantic_type\": \"\",\n        \"description\": \"\"\n      }\n    },\n    {\n      \"column\": \"target\",\n      \"properties\": {\n        \"dtype\": \"number\",\n        \"std\": 1,\n        \"min\": 0,\n        \"max\": 4,\n        \"num_unique_values\": 5,\n        \"samples\": [\n          0,\n          4,\n          2\n        ],\n        \"semantic_type\": \"\",\n        \"description\": \"\"\n      }\n    }\n  ]\n}"
            }
          },
          "metadata": {},
          "execution_count": 3
        }
      ]
    },
    {
      "cell_type": "code",
      "source": [
        "# Dropping rows where 'text' is missing\n",
        "df = df.dropna(subset=['text'])\n",
        "\n",
        "\n",
        "df.rename(columns={'target': 'label'}, inplace=True)\n",
        "\n",
        "\n",
        "df.head()\n"
      ],
      "metadata": {
        "colab": {
          "base_uri": "https://localhost:8080/",
          "height": 293
        },
        "id": "fTPoY6WoHYx8",
        "outputId": "46245a74-2536-4cd5-e212-b8eea363c8ca"
      },
      "execution_count": null,
      "outputs": [
        {
          "output_type": "stream",
          "name": "stderr",
          "text": [
            "<ipython-input-5-9f01ef97a319>:5: SettingWithCopyWarning: \n",
            "A value is trying to be set on a copy of a slice from a DataFrame\n",
            "\n",
            "See the caveats in the documentation: https://pandas.pydata.org/pandas-docs/stable/user_guide/indexing.html#returning-a-view-versus-a-copy\n",
            "  df.rename(columns={'target': 'label'}, inplace=True)\n"
          ]
        },
        {
          "output_type": "execute_result",
          "data": {
            "text/plain": [
              "   Unnamed: 0                                               text  \\\n",
              "0           0  Welcome to /r/depression's check-in post - a p...   \n",
              "1           1  We understand that most people who reply immed...   \n",
              "2           2  Anyone else just miss physical touch? I crave ...   \n",
              "3           3  I’m just so ashamed. Everyone and everything f...   \n",
              "4           4  I really need a friend. I don't even have a si...   \n",
              "\n",
              "                                               title  label  \n",
              "0  Regular check-in post, with information about ...      1  \n",
              "1  Our most-broken and least-understood rules is ...      1  \n",
              "2  I haven’t been touched, or even hugged, in so ...      1  \n",
              "3                    Being Depressed is Embarrassing      1  \n",
              "4  I'm desperate for a friend and to feel loved b...      1  "
            ],
            "text/html": [
              "\n",
              "  <div id=\"df-99524707-56d2-4576-8f4c-6776bd8bc963\" class=\"colab-df-container\">\n",
              "    <div>\n",
              "<style scoped>\n",
              "    .dataframe tbody tr th:only-of-type {\n",
              "        vertical-align: middle;\n",
              "    }\n",
              "\n",
              "    .dataframe tbody tr th {\n",
              "        vertical-align: top;\n",
              "    }\n",
              "\n",
              "    .dataframe thead th {\n",
              "        text-align: right;\n",
              "    }\n",
              "</style>\n",
              "<table border=\"1\" class=\"dataframe\">\n",
              "  <thead>\n",
              "    <tr style=\"text-align: right;\">\n",
              "      <th></th>\n",
              "      <th>Unnamed: 0</th>\n",
              "      <th>text</th>\n",
              "      <th>title</th>\n",
              "      <th>label</th>\n",
              "    </tr>\n",
              "  </thead>\n",
              "  <tbody>\n",
              "    <tr>\n",
              "      <th>0</th>\n",
              "      <td>0</td>\n",
              "      <td>Welcome to /r/depression's check-in post - a p...</td>\n",
              "      <td>Regular check-in post, with information about ...</td>\n",
              "      <td>1</td>\n",
              "    </tr>\n",
              "    <tr>\n",
              "      <th>1</th>\n",
              "      <td>1</td>\n",
              "      <td>We understand that most people who reply immed...</td>\n",
              "      <td>Our most-broken and least-understood rules is ...</td>\n",
              "      <td>1</td>\n",
              "    </tr>\n",
              "    <tr>\n",
              "      <th>2</th>\n",
              "      <td>2</td>\n",
              "      <td>Anyone else just miss physical touch? I crave ...</td>\n",
              "      <td>I haven’t been touched, or even hugged, in so ...</td>\n",
              "      <td>1</td>\n",
              "    </tr>\n",
              "    <tr>\n",
              "      <th>3</th>\n",
              "      <td>3</td>\n",
              "      <td>I’m just so ashamed. Everyone and everything f...</td>\n",
              "      <td>Being Depressed is Embarrassing</td>\n",
              "      <td>1</td>\n",
              "    </tr>\n",
              "    <tr>\n",
              "      <th>4</th>\n",
              "      <td>4</td>\n",
              "      <td>I really need a friend. I don't even have a si...</td>\n",
              "      <td>I'm desperate for a friend and to feel loved b...</td>\n",
              "      <td>1</td>\n",
              "    </tr>\n",
              "  </tbody>\n",
              "</table>\n",
              "</div>\n",
              "    <div class=\"colab-df-buttons\">\n",
              "\n",
              "  <div class=\"colab-df-container\">\n",
              "    <button class=\"colab-df-convert\" onclick=\"convertToInteractive('df-99524707-56d2-4576-8f4c-6776bd8bc963')\"\n",
              "            title=\"Convert this dataframe to an interactive table.\"\n",
              "            style=\"display:none;\">\n",
              "\n",
              "  <svg xmlns=\"http://www.w3.org/2000/svg\" height=\"24px\" viewBox=\"0 -960 960 960\">\n",
              "    <path d=\"M120-120v-720h720v720H120Zm60-500h600v-160H180v160Zm220 220h160v-160H400v160Zm0 220h160v-160H400v160ZM180-400h160v-160H180v160Zm440 0h160v-160H620v160ZM180-180h160v-160H180v160Zm440 0h160v-160H620v160Z\"/>\n",
              "  </svg>\n",
              "    </button>\n",
              "\n",
              "  <style>\n",
              "    .colab-df-container {\n",
              "      display:flex;\n",
              "      gap: 12px;\n",
              "    }\n",
              "\n",
              "    .colab-df-convert {\n",
              "      background-color: #E8F0FE;\n",
              "      border: none;\n",
              "      border-radius: 50%;\n",
              "      cursor: pointer;\n",
              "      display: none;\n",
              "      fill: #1967D2;\n",
              "      height: 32px;\n",
              "      padding: 0 0 0 0;\n",
              "      width: 32px;\n",
              "    }\n",
              "\n",
              "    .colab-df-convert:hover {\n",
              "      background-color: #E2EBFA;\n",
              "      box-shadow: 0px 1px 2px rgba(60, 64, 67, 0.3), 0px 1px 3px 1px rgba(60, 64, 67, 0.15);\n",
              "      fill: #174EA6;\n",
              "    }\n",
              "\n",
              "    .colab-df-buttons div {\n",
              "      margin-bottom: 4px;\n",
              "    }\n",
              "\n",
              "    [theme=dark] .colab-df-convert {\n",
              "      background-color: #3B4455;\n",
              "      fill: #D2E3FC;\n",
              "    }\n",
              "\n",
              "    [theme=dark] .colab-df-convert:hover {\n",
              "      background-color: #434B5C;\n",
              "      box-shadow: 0px 1px 3px 1px rgba(0, 0, 0, 0.15);\n",
              "      filter: drop-shadow(0px 1px 2px rgba(0, 0, 0, 0.3));\n",
              "      fill: #FFFFFF;\n",
              "    }\n",
              "  </style>\n",
              "\n",
              "    <script>\n",
              "      const buttonEl =\n",
              "        document.querySelector('#df-99524707-56d2-4576-8f4c-6776bd8bc963 button.colab-df-convert');\n",
              "      buttonEl.style.display =\n",
              "        google.colab.kernel.accessAllowed ? 'block' : 'none';\n",
              "\n",
              "      async function convertToInteractive(key) {\n",
              "        const element = document.querySelector('#df-99524707-56d2-4576-8f4c-6776bd8bc963');\n",
              "        const dataTable =\n",
              "          await google.colab.kernel.invokeFunction('convertToInteractive',\n",
              "                                                    [key], {});\n",
              "        if (!dataTable) return;\n",
              "\n",
              "        const docLinkHtml = 'Like what you see? Visit the ' +\n",
              "          '<a target=\"_blank\" href=https://colab.research.google.com/notebooks/data_table.ipynb>data table notebook</a>'\n",
              "          + ' to learn more about interactive tables.';\n",
              "        element.innerHTML = '';\n",
              "        dataTable['output_type'] = 'display_data';\n",
              "        await google.colab.output.renderOutput(dataTable, element);\n",
              "        const docLink = document.createElement('div');\n",
              "        docLink.innerHTML = docLinkHtml;\n",
              "        element.appendChild(docLink);\n",
              "      }\n",
              "    </script>\n",
              "  </div>\n",
              "\n",
              "\n",
              "<div id=\"df-162be522-12cb-49e4-b771-855424032f2c\">\n",
              "  <button class=\"colab-df-quickchart\" onclick=\"quickchart('df-162be522-12cb-49e4-b771-855424032f2c')\"\n",
              "            title=\"Suggest charts\"\n",
              "            style=\"display:none;\">\n",
              "\n",
              "<svg xmlns=\"http://www.w3.org/2000/svg\" height=\"24px\"viewBox=\"0 0 24 24\"\n",
              "     width=\"24px\">\n",
              "    <g>\n",
              "        <path d=\"M19 3H5c-1.1 0-2 .9-2 2v14c0 1.1.9 2 2 2h14c1.1 0 2-.9 2-2V5c0-1.1-.9-2-2-2zM9 17H7v-7h2v7zm4 0h-2V7h2v10zm4 0h-2v-4h2v4z\"/>\n",
              "    </g>\n",
              "</svg>\n",
              "  </button>\n",
              "\n",
              "<style>\n",
              "  .colab-df-quickchart {\n",
              "      --bg-color: #E8F0FE;\n",
              "      --fill-color: #1967D2;\n",
              "      --hover-bg-color: #E2EBFA;\n",
              "      --hover-fill-color: #174EA6;\n",
              "      --disabled-fill-color: #AAA;\n",
              "      --disabled-bg-color: #DDD;\n",
              "  }\n",
              "\n",
              "  [theme=dark] .colab-df-quickchart {\n",
              "      --bg-color: #3B4455;\n",
              "      --fill-color: #D2E3FC;\n",
              "      --hover-bg-color: #434B5C;\n",
              "      --hover-fill-color: #FFFFFF;\n",
              "      --disabled-bg-color: #3B4455;\n",
              "      --disabled-fill-color: #666;\n",
              "  }\n",
              "\n",
              "  .colab-df-quickchart {\n",
              "    background-color: var(--bg-color);\n",
              "    border: none;\n",
              "    border-radius: 50%;\n",
              "    cursor: pointer;\n",
              "    display: none;\n",
              "    fill: var(--fill-color);\n",
              "    height: 32px;\n",
              "    padding: 0;\n",
              "    width: 32px;\n",
              "  }\n",
              "\n",
              "  .colab-df-quickchart:hover {\n",
              "    background-color: var(--hover-bg-color);\n",
              "    box-shadow: 0 1px 2px rgba(60, 64, 67, 0.3), 0 1px 3px 1px rgba(60, 64, 67, 0.15);\n",
              "    fill: var(--button-hover-fill-color);\n",
              "  }\n",
              "\n",
              "  .colab-df-quickchart-complete:disabled,\n",
              "  .colab-df-quickchart-complete:disabled:hover {\n",
              "    background-color: var(--disabled-bg-color);\n",
              "    fill: var(--disabled-fill-color);\n",
              "    box-shadow: none;\n",
              "  }\n",
              "\n",
              "  .colab-df-spinner {\n",
              "    border: 2px solid var(--fill-color);\n",
              "    border-color: transparent;\n",
              "    border-bottom-color: var(--fill-color);\n",
              "    animation:\n",
              "      spin 1s steps(1) infinite;\n",
              "  }\n",
              "\n",
              "  @keyframes spin {\n",
              "    0% {\n",
              "      border-color: transparent;\n",
              "      border-bottom-color: var(--fill-color);\n",
              "      border-left-color: var(--fill-color);\n",
              "    }\n",
              "    20% {\n",
              "      border-color: transparent;\n",
              "      border-left-color: var(--fill-color);\n",
              "      border-top-color: var(--fill-color);\n",
              "    }\n",
              "    30% {\n",
              "      border-color: transparent;\n",
              "      border-left-color: var(--fill-color);\n",
              "      border-top-color: var(--fill-color);\n",
              "      border-right-color: var(--fill-color);\n",
              "    }\n",
              "    40% {\n",
              "      border-color: transparent;\n",
              "      border-right-color: var(--fill-color);\n",
              "      border-top-color: var(--fill-color);\n",
              "    }\n",
              "    60% {\n",
              "      border-color: transparent;\n",
              "      border-right-color: var(--fill-color);\n",
              "    }\n",
              "    80% {\n",
              "      border-color: transparent;\n",
              "      border-right-color: var(--fill-color);\n",
              "      border-bottom-color: var(--fill-color);\n",
              "    }\n",
              "    90% {\n",
              "      border-color: transparent;\n",
              "      border-bottom-color: var(--fill-color);\n",
              "    }\n",
              "  }\n",
              "</style>\n",
              "\n",
              "  <script>\n",
              "    async function quickchart(key) {\n",
              "      const quickchartButtonEl =\n",
              "        document.querySelector('#' + key + ' button');\n",
              "      quickchartButtonEl.disabled = true;  // To prevent multiple clicks.\n",
              "      quickchartButtonEl.classList.add('colab-df-spinner');\n",
              "      try {\n",
              "        const charts = await google.colab.kernel.invokeFunction(\n",
              "            'suggestCharts', [key], {});\n",
              "      } catch (error) {\n",
              "        console.error('Error during call to suggestCharts:', error);\n",
              "      }\n",
              "      quickchartButtonEl.classList.remove('colab-df-spinner');\n",
              "      quickchartButtonEl.classList.add('colab-df-quickchart-complete');\n",
              "    }\n",
              "    (() => {\n",
              "      let quickchartButtonEl =\n",
              "        document.querySelector('#df-162be522-12cb-49e4-b771-855424032f2c button');\n",
              "      quickchartButtonEl.style.display =\n",
              "        google.colab.kernel.accessAllowed ? 'block' : 'none';\n",
              "    })();\n",
              "  </script>\n",
              "</div>\n",
              "\n",
              "    </div>\n",
              "  </div>\n"
            ],
            "application/vnd.google.colaboratory.intrinsic+json": {
              "type": "dataframe",
              "variable_name": "df",
              "summary": "{\n  \"name\": \"df\",\n  \"rows\": 5607,\n  \"fields\": [\n    {\n      \"column\": \"Unnamed: 0\",\n      \"properties\": {\n        \"dtype\": \"number\",\n        \"std\": 344,\n        \"min\": 0,\n        \"max\": 1201,\n        \"num_unique_values\": 1202,\n        \"samples\": [\n          1133,\n          425,\n          78\n        ],\n        \"semantic_type\": \"\",\n        \"description\": \"\"\n      }\n    },\n    {\n      \"column\": \"text\",\n      \"properties\": {\n        \"dtype\": \"string\",\n        \"num_unique_values\": 4420,\n        \"samples\": [\n          \"I will admit that I\\u2019m a bit of a hypochondriac and have a lot of anxiety surrounding my health, but I\\u2019m experiencing something I\\u2019ve never gone through before. Since Sunday evening, my whole body has been in extreme pain and I just have that feeling I get when I\\u2019m sick with something like a cold or the flu. But those are my only symptoms. I\\u2019ve had 2 negative Covid tests and just got a negative flu test from the doctor where they also did some lab work and gave me a prescription for my pain. \\n\\nThe only other explanation I can think of for the cause of this is that I got extremely depressed and stressed out last week. I\\u2019m not new to stress or depression though, and I\\u2019ve never had this type of reaction before.\\n\\nJust wondered if anyone had any ideas or has experienced anything like this.  I\\u2019m worried this is all in my head even though my pain feels very real and severe, and it doesn\\u2019t seem to be letting up at all.\",\n          \"So I'm 33 and I'll be 34 in March. Right now I'm working at McDonald's but I'm having issues with scheduling so I'm looking for another job. I do have an AAS but I never used it so I'm tryna get back into school or into a certification program but I don't wanna end up in debt. I keep wondering where I'll end up cuz I do wanna move but I don't drive so I'm tryna get an ebike but I still wanna move out of this city (I'm in Ohio) I just keep wondering if I can get ahead in life. I know I'm taking the right steps by working and thinking of school but it's still stressful cuz I'm tryna think ahead but maybe I'm thinking too much about it \\ud83d\\ude14 anybody else feel like this?\",\n          \"Hey guys. I\\u2019m struggling financially atm big time. Last year I had to take over 4 months off and was in hospital for 3 months due to a very severe episode. I\\u2019ve returned to work since then but part time, and I can\\u2019t seem to catch up on the costs of living with my income. The craziest thing is that I\\u2019m a doctor (registrar- speciality training) and I still don\\u2019t make enough to live. My partner is supporting me as much as possible but he\\u2019s struggling too. I feel so ashamed and defeated. I can\\u2019t work more currently as I only just increased my hours and the stress and fatigue is full on right now. I have no parental support or other supports. After graduating med school I finally had financial freedom and was doing well. My relapse last year has cost me more than my health and it\\u2019s a real struggle to go back living week to week and paycheck to paycheck- I\\u2019ve been poor my entire life apart from when I first graduated. \\nIs anyone else in the same boat and if so how do you come to terms with it? The situation makes me feel like I\\u2019m a failure and I feel really embarrassed. Hope everyone is doing ok and thanks to this sub.\"\n        ],\n        \"semantic_type\": \"\",\n        \"description\": \"\"\n      }\n    },\n    {\n      \"column\": \"title\",\n      \"properties\": {\n        \"dtype\": \"string\",\n        \"num_unique_values\": 4374,\n        \"samples\": [\n          \"Stressed\",\n          \"The life I've worked for is gone.\",\n          \"My work stress is destroying my quality of life\"\n        ],\n        \"semantic_type\": \"\",\n        \"description\": \"\"\n      }\n    },\n    {\n      \"column\": \"label\",\n      \"properties\": {\n        \"dtype\": \"number\",\n        \"std\": 1,\n        \"min\": 0,\n        \"max\": 4,\n        \"num_unique_values\": 5,\n        \"samples\": [\n          0,\n          4,\n          2\n        ],\n        \"semantic_type\": \"\",\n        \"description\": \"\"\n      }\n    }\n  ]\n}"
            }
          },
          "metadata": {},
          "execution_count": 5
        }
      ]
    },
    {
      "cell_type": "code",
      "source": [
        "from sklearn.preprocessing import LabelEncoder\n",
        "\n",
        "label_encoder = LabelEncoder()\n",
        "df['label_encoded'] = label_encoder.fit_transform(df['label'])\n",
        "\n",
        "# Checking mappings\n",
        "label_mapping = dict(zip(label_encoder.classes_, label_encoder.transform(label_encoder.classes_)))\n",
        "print(\"Label Mapping:\", label_mapping)\n"
      ],
      "metadata": {
        "colab": {
          "base_uri": "https://localhost:8080/"
        },
        "id": "C956nnyDHcKV",
        "outputId": "a8f234a0-038a-411f-dcdd-f874e3f1ddca"
      },
      "execution_count": null,
      "outputs": [
        {
          "output_type": "stream",
          "name": "stdout",
          "text": [
            "Label Mapping: {np.int64(0): np.int64(0), np.int64(1): np.int64(1), np.int64(2): np.int64(2), np.int64(3): np.int64(3), np.int64(4): np.int64(4)}\n"
          ]
        },
        {
          "output_type": "stream",
          "name": "stderr",
          "text": [
            "<ipython-input-6-df74deafdb2d>:4: SettingWithCopyWarning: \n",
            "A value is trying to be set on a copy of a slice from a DataFrame.\n",
            "Try using .loc[row_indexer,col_indexer] = value instead\n",
            "\n",
            "See the caveats in the documentation: https://pandas.pydata.org/pandas-docs/stable/user_guide/indexing.html#returning-a-view-versus-a-copy\n",
            "  df['label_encoded'] = label_encoder.fit_transform(df['label'])\n"
          ]
        }
      ]
    },
    {
      "cell_type": "code",
      "source": [
        "X_train, X_test, y_train, y_test = train_test_split(\n",
        "    df['text'], df['label_encoded'], test_size=0.2, random_state=42, stratify=df['label_encoded']\n",
        ")\n"
      ],
      "metadata": {
        "id": "yG0g1VvLHiiJ"
      },
      "execution_count": null,
      "outputs": []
    },
    {
      "cell_type": "code",
      "source": [
        "tfidf_vectorizer = TfidfVectorizer(max_features=5000)\n",
        "X_train_tfidf = tfidf_vectorizer.fit_transform(X_train)\n",
        "X_test_tfidf = tfidf_vectorizer.transform(X_test)\n"
      ],
      "metadata": {
        "id": "BJbqfg2AHpLj"
      },
      "execution_count": null,
      "outputs": []
    },
    {
      "cell_type": "code",
      "source": [
        "from sklearn.linear_model import LogisticRegression\n",
        "\n",
        "# Creating the Logistic Regression model\n",
        "logreg = LogisticRegression(max_iter=200)\n",
        "\n",
        "# Training the model\n",
        "logreg.fit(X_train_tfidf, y_train)\n",
        "\n",
        "# Predict the labels on the test set\n",
        "y_pred_logreg = logreg.predict(X_test_tfidf)\n"
      ],
      "metadata": {
        "id": "9CrFfJsIJOqd"
      },
      "execution_count": null,
      "outputs": []
    },
    {
      "cell_type": "code",
      "source": [
        "from sklearn.metrics import classification_report\n",
        "\n",
        "# Converting numeric class labels to string class labels for target_names\n",
        "target_names = [str(cls) for cls in label_encoder.classes_]\n",
        "\n",
        "\n",
        "print(\"Logistic Regression Classification Report:\")\n",
        "print(classification_report(y_test, y_pred_logreg, target_names=target_names))\n"
      ],
      "metadata": {
        "colab": {
          "base_uri": "https://localhost:8080/"
        },
        "id": "GsCI60WOJY7n",
        "outputId": "0ad045ae-ea55-4bce-c49f-f722ac2be037"
      },
      "execution_count": null,
      "outputs": [
        {
          "output_type": "stream",
          "name": "stdout",
          "text": [
            "Logistic Regression Classification Report:\n",
            "              precision    recall  f1-score   support\n",
            "\n",
            "           0       0.83      0.79      0.81       220\n",
            "           1       0.70      0.74      0.72       241\n",
            "           2       0.83      0.78      0.80       217\n",
            "           3       0.72      0.75      0.73       215\n",
            "           4       0.75      0.75      0.75       229\n",
            "\n",
            "    accuracy                           0.76      1122\n",
            "   macro avg       0.77      0.76      0.76      1122\n",
            "weighted avg       0.76      0.76      0.76      1122\n",
            "\n"
          ]
        }
      ]
    },
    {
      "cell_type": "code",
      "source": [
        "# Classification report data (from your output)\n",
        "classes = ['Class 0', 'Class 1', 'Class 2', 'Class 3', 'Class 4']\n",
        "precision = [0.83, 0.70, 0.83, 0.72, 0.75]\n",
        "recall = [0.79, 0.74, 0.78, 0.75, 0.75]\n",
        "f1_score = [0.81, 0.72, 0.80, 0.73, 0.75]\n",
        "\n",
        "\n",
        "x = np.arange(len(classes))\n",
        "width = 0.2\n",
        "\n",
        "\n",
        "fig, ax = plt.subplots(figsize=(8, 6))\n",
        "\n",
        "# Plot precision, recall, and F1 score for each class\n",
        "rects1 = ax.bar(x - width, precision, width, label='Precision')\n",
        "rects2 = ax.bar(x, recall, width, label='Recall')\n",
        "rects3 = ax.bar(x + width, f1_score, width, label='F1-Score')\n",
        "\n",
        "\n",
        "ax.set_xlabel('Classes')\n",
        "ax.set_ylabel('Scores')\n",
        "ax.set_title('Performance Metrics for Logistic Regression')\n",
        "ax.set_xticks(x)\n",
        "ax.set_xticklabels(classes, rotation=45)\n",
        "ax.legend()\n",
        "\n",
        "\n",
        "plt.tight_layout()\n",
        "plt.show()\n"
      ],
      "metadata": {
        "colab": {
          "base_uri": "https://localhost:8080/",
          "height": 607
        },
        "id": "Ih-b9EDsPlAZ",
        "outputId": "b2174280-056c-4d6f-ea93-0abd8a98eac9"
      },
      "execution_count": null,
      "outputs": [
        {
          "output_type": "display_data",
          "data": {
            "text/plain": [
              "<Figure size 800x600 with 1 Axes>"
            ],
            "image/png": "[encoded data removed]"
          },
          "metadata": {}
        }
      ]
    },
    {
      "cell_type": "code",
      "source": [
        "from sklearn.linear_model import LogisticRegression\n",
        "from sklearn.feature_extraction.text import TfidfVectorizer\n",
        "import joblib\n",
        "\n",
        "\n",
        "\n",
        "# Prepare data\n",
        "X = df['text']\n",
        "y = df['label']\n",
        "\n",
        "# Vectorizing the text using TF-IDF\n",
        "vectorizer = TfidfVectorizer(stop_words='english', max_features=5000)\n",
        "X_tfidf = vectorizer.fit_transform(X)\n",
        "\n",
        "# Training the Logistic Regression model\n",
        "logreg_model = LogisticRegression(max_iter=1000)\n",
        "logreg_model.fit(X_tfidf, y)\n",
        "\n",
        "# Saving the model and the vectorizer\n",
        "joblib.dump(logreg_model, 'logreg_model.pkl')\n",
        "joblib.dump(vectorizer, 'tfidf_vectorizer.pkl')\n",
        "\n",
        "print(\"Logistic Regression model and vectorizer saved successfully!\")\n"
      ],
      "metadata": {
        "colab": {
          "base_uri": "https://localhost:8080/"
        },
        "id": "x5dUA7thND_I",
        "outputId": "a9f68765-df5f-4918-887a-a7f0a974f01e"
      },
      "execution_count": null,
      "outputs": [
        {
          "output_type": "stream",
          "name": "stdout",
          "text": [
            "Logistic Regression model and vectorizer saved successfully!\n"
          ]
        }
      ]
    },
    {
      "cell_type": "code",
      "source": [
        "import joblib\n",
        "\n",
        "# Loading the logistic regression model\n",
        "logreg_model = joblib.load('logreg_model.pkl')\n"
      ],
      "metadata": {
        "id": "UjZtSSTyNP_I"
      },
      "execution_count": null,
      "outputs": []
    },
    {
      "cell_type": "code",
      "source": [
        "\n",
        "tfidf_vectorizer = joblib.load('tfidf_vectorizer.pkl')\n",
        "\n",
        "\n",
        "new_text_data = [\"I feel really stressed out today.\"]\n",
        "X_new = tfidf_vectorizer.transform(new_text_data)\n"
      ],
      "metadata": {
        "id": "71_TJKIGNf0o"
      },
      "execution_count": null,
      "outputs": []
    },
    {
      "cell_type": "code",
      "source": [
        "predictions = logreg_model.predict(X_new)\n",
        "\n",
        "\n",
        "print(predictions)\n"
      ],
      "metadata": {
        "colab": {
          "base_uri": "https://localhost:8080/"
        },
        "id": "iyQio7ZJNlVT",
        "outputId": "bfdcc06d-0701-4991-c2d6-0866f64b13ca"
      },
      "execution_count": null,
      "outputs": [
        {
          "output_type": "stream",
          "name": "stdout",
          "text": [
            "[0]\n"
          ]
        }
      ]
    },
    {
      "cell_type": "code",
      "source": [
        "import matplotlib.pyplot as plt\n",
        "from sklearn.metrics import classification_report\n",
        "\n",
        "\n",
        "y_pred_logreg = logreg_model.predict(X_test_tfidf)\n",
        "\n",
        "\n",
        "report_logreg = classification_report(y_test, y_pred_logreg, output_dict=True)\n",
        "\n",
        "\n",
        "classes = list(label_encoder.classes_)\n",
        "metrics = ['precision', 'recall', 'f1-score']\n",
        "\n",
        "\n",
        "data_logreg = {metric: [report_logreg[str(i)][metric] for i in range(len(classes))] for metric in metrics}\n",
        "\n",
        "x = range(len(classes))\n",
        "bar_width = 0.25\n",
        "\n",
        "plt.figure(figsize=(10, 6))\n",
        "for idx, metric in enumerate(metrics):\n",
        "    plt.bar([p + bar_width * idx for p in x], data_logreg[metric], width=bar_width, label=metric)\n",
        "\n",
        "plt.xlabel('Mental Health Classes')\n",
        "plt.ylabel('Score')\n",
        "plt.title('Logistic Regression Performance Metrics per Class')\n",
        "plt.xticks([p + bar_width for p in x], classes, rotation=45)\n",
        "plt.ylim(0, 1.1)\n",
        "plt.legend()\n",
        "plt.tight_layout()\n",
        "plt.show()\n"
      ],
      "metadata": {
        "colab": {
          "base_uri": "https://localhost:8080/",
          "height": 607
        },
        "id": "2uC8Zz6rUsm8",
        "outputId": "13033303-d8bf-4fc6-d84f-7b40c00e0da1"
      },
      "execution_count": null,
      "outputs": [
        {
          "output_type": "display_data",
          "data": {
            "text/plain": [
              "<Figure size 1000x600 with 1 Axes>"
            ],
            "image/png": "[encoded data removed]"
          },
          "metadata": {}
        }
      ]
    },
    {
      "cell_type": "markdown",
      "source": [
        "# New Section"
      ],
      "metadata": {
        "id": "76Pdvh5JGym0"
      }
    },
    {
      "cell_type": "code",
      "source": [
        "import xgboost as xgb\n",
        "\n",
        "\n",
        "xg_model = xgb.XGBClassifier(use_label_encoder=False, eval_metric='mlogloss')\n",
        "\n",
        "\n",
        "xg_model.fit(X_train_tfidf, y_train)\n",
        "\n",
        "y_pred_xg = xg_model.predict(X_test_tfidf)\n"
      ],
      "metadata": {
        "colab": {
          "base_uri": "https://localhost:8080/"
        },
        "id": "j3yRYt0wJbnD",
        "outputId": "0cfbb979-10c1-4daa-9aa4-61fa9953a368"
      },
      "execution_count": null,
      "outputs": [
        {
          "output_type": "stream",
          "name": "stderr",
          "text": [
            "/usr/local/lib/python3.11/dist-packages/xgboost/core.py:158: UserWarning: [14:14:01] WARNING: /workspace/src/learner.cc:740: \n",
            "Parameters: { \"use_label_encoder\" } are not used.\n",
            "\n",
            "  warnings.warn(smsg, UserWarning)\n"
          ]
        }
      ]
    },
    {
      "cell_type": "code",
      "source": [
        "# XGBoost Classification Report\n",
        "print(\"\\nXGBoost Classification Report:\")\n",
        "print(classification_report(y_test, y_pred_xg, target_names=target_names))\n"
      ],
      "metadata": {
        "colab": {
          "base_uri": "https://localhost:8080/"
        },
        "id": "pNwA6yYVJvZt",
        "outputId": "d6c4bc40-692e-429b-db1b-fb1d25509063"
      },
      "execution_count": null,
      "outputs": [
        {
          "output_type": "stream",
          "name": "stdout",
          "text": [
            "\n",
            "XGBoost Classification Report:\n",
            "              precision    recall  f1-score   support\n",
            "\n",
            "           0       0.87      0.82      0.85       220\n",
            "           1       0.71      0.70      0.71       241\n",
            "           2       0.84      0.85      0.85       217\n",
            "           3       0.74      0.80      0.77       215\n",
            "           4       0.79      0.79      0.79       229\n",
            "\n",
            "    accuracy                           0.79      1122\n",
            "   macro avg       0.79      0.79      0.79      1122\n",
            "weighted avg       0.79      0.79      0.79      1122\n",
            "\n"
          ]
        }
      ]
    },
    {
      "cell_type": "code",
      "source": [
        "# XGBoost Classification Report Data (from your output)\n",
        "classes = ['Class 0', 'Class 1', 'Class 2', 'Class 3', 'Class 4']\n",
        "precision = [0.87, 0.71, 0.84, 0.74, 0.79]\n",
        "recall = [0.82, 0.70, 0.85, 0.80, 0.79]\n",
        "f1_score = [0.85, 0.71, 0.85, 0.77, 0.79]\n",
        "\n",
        "\n",
        "x = np.arange(len(classes))\n",
        "width = 0.2\n",
        "\n",
        "\n",
        "fig, ax = plt.subplots(figsize=(8, 6))\n",
        "\n",
        "\n",
        "rects1 = ax.bar(x - width, precision, width, label='Precision')\n",
        "rects2 = ax.bar(x, recall, width, label='Recall')\n",
        "rects3 = ax.bar(x + width, f1_score, width, label='F1-Score')\n",
        "\n",
        "\n",
        "ax.set_xlabel('Classes')\n",
        "ax.set_ylabel('Scores')\n",
        "ax.set_title('Performance Metrics for XGBoost')\n",
        "ax.set_xticks(x)\n",
        "ax.set_xticklabels(classes, rotation=45)\n",
        "ax.legend()\n",
        "\n",
        "\n",
        "plt.tight_layout()\n",
        "plt.show()\n"
      ],
      "metadata": {
        "colab": {
          "base_uri": "https://localhost:8080/",
          "height": 607
        },
        "id": "QZ8EFUClMBU0",
        "outputId": "ad3857d7-f90a-490f-c157-7a636064469d"
      },
      "execution_count": null,
      "outputs": [
        {
          "output_type": "display_data",
          "data": {
            "text/plain": [
              "<Figure size 800x600 with 1 Axes>"
            ],
            "image/png": "[encoded data removed]"
          },
          "metadata": {}
        }
      ]
    },
    {
      "cell_type": "code",
      "source": [
        "from xgboost import XGBClassifier\n",
        "from sklearn.feature_extraction.text import TfidfVectorizer\n",
        "from sklearn.model_selection import train_test_split\n",
        "import joblib\n",
        "\n",
        "\n",
        "X = df['text']\n",
        "y = df['label_encoded']\n",
        "\n",
        "X_train, X_test, y_train, y_test = train_test_split(X, y, test_size=0.2, random_state=42)\n",
        "\n",
        "\n",
        "tfidf = TfidfVectorizer(max_features=5000)\n",
        "X_train_tfidf = tfidf.fit_transform(X_train)\n",
        "X_test_tfidf = tfidf.transform(X_test)\n",
        "\n",
        "\n",
        "xgb_model = XGBClassifier(use_label_encoder=False, eval_metric='mlogloss')\n",
        "xgb_model.fit(X_train_tfidf, y_train)\n",
        "\n",
        "\n",
        "joblib.dump(xgb_model, 'xgb_model.pkl')\n",
        "joblib.dump(tfidf, 'tfidf_vectorizer.pkl')\n",
        "\n",
        "print(\"✅ XGBoost model and vectorizer saved successfully!\")\n"
      ],
      "metadata": {
        "colab": {
          "base_uri": "https://localhost:8080/"
        },
        "id": "lQ_1JX2kTKPw",
        "outputId": "2e964a25-9b6a-458a-a4f4-253f2a0ccec1"
      },
      "execution_count": null,
      "outputs": [
        {
          "output_type": "stream",
          "name": "stderr",
          "text": [
            "/usr/local/lib/python3.11/dist-packages/xgboost/core.py:158: UserWarning: [14:56:27] WARNING: /workspace/src/learner.cc:740: \n",
            "Parameters: { \"use_label_encoder\" } are not used.\n",
            "\n",
            "  warnings.warn(smsg, UserWarning)\n"
          ]
        },
        {
          "output_type": "stream",
          "name": "stdout",
          "text": [
            "✅ XGBoost model and vectorizer saved successfully!\n"
          ]
        }
      ]
    },
    {
      "cell_type": "code",
      "source": [
        "\n",
        "xgb_model = joblib.load('xgb_model.pkl')\n",
        "tfidf = joblib.load('tfidf_vectorizer.pkl')\n",
        "\n",
        "\n",
        "new_text = [\"I feel very anxious and hopeless\"]\n",
        "new_text_tfidf = tfidf.transform(new_text)\n",
        "prediction = xgb_model.predict(new_text_tfidf)\n",
        "\n",
        "print(\"Prediction:\", prediction)\n"
      ],
      "metadata": {
        "colab": {
          "base_uri": "https://localhost:8080/"
        },
        "id": "PyNXhlCdTmkF",
        "outputId": "6b7c1560-50f1-458f-f246-e5afc31f509b"
      },
      "execution_count": null,
      "outputs": [
        {
          "output_type": "stream",
          "name": "stdout",
          "text": [
            "Prediction: [4]\n"
          ]
        }
      ]
    },
    {
      "cell_type": "code",
      "source": [
        "\n",
        "tfidf_vectorizer = joblib.load('tfidf_vectorizer.pkl')\n",
        "\n",
        "new_texts = [\"I'm feeling very low and can't concentrate.\"]\n",
        "new_tfidf = tfidf_vectorizer.transform(new_texts)\n",
        "\n",
        "# Predict\n",
        "prediction = xgb_model.predict(new_tfidf)\n",
        "print(\"Predicted label:\", prediction)\n"
      ],
      "metadata": {
        "colab": {
          "base_uri": "https://localhost:8080/"
        },
        "id": "_i4xeALuT5-t",
        "outputId": "47eb41ae-cd82-40c7-ed03-e08396a003a9"
      },
      "execution_count": null,
      "outputs": [
        {
          "output_type": "stream",
          "name": "stdout",
          "text": [
            "Predicted label: [1]\n"
          ]
        }
      ]
    },
    {
      "cell_type": "code",
      "source": [
        "import matplotlib.pyplot as plt\n",
        "from sklearn.metrics import classification_report\n",
        "\n",
        "\n",
        "y_pred_xgb = xgb_model.predict(X_test_tfidf)\n",
        "\n",
        "\n",
        "report = classification_report(y_test, y_pred_xgb, output_dict=True)\n",
        "\n",
        "\n",
        "classes = list(label_encoder.classes_)\n",
        "metrics = ['precision', 'recall', 'f1-score']\n",
        "\n",
        "\n",
        "data = {metric: [report[str(i)][metric] for i in range(len(classes))] for metric in metrics}\n",
        "\n",
        "x = range(len(classes))\n",
        "bar_width = 0.25\n",
        "\n",
        "plt.figure(figsize=(10, 6))\n",
        "for idx, metric in enumerate(metrics):\n",
        "    plt.bar([p + bar_width * idx for p in x], data[metric], width=bar_width, label=metric)\n",
        "\n",
        "plt.xlabel('Mental Health Classes')\n",
        "plt.ylabel('Score')\n",
        "plt.title('XGBoost Performance Metrics per Class')\n",
        "plt.xticks([p + bar_width for p in x], classes, rotation=45)\n",
        "plt.ylim(0, 1.1)\n",
        "plt.legend()\n",
        "plt.tight_layout()\n",
        "plt.show()\n",
        "\n"
      ],
      "metadata": {
        "colab": {
          "base_uri": "https://localhost:8080/",
          "height": 607
        },
        "id": "LZDp6IgLUO1f",
        "outputId": "0f32ef50-2783-42bb-feb6-fbb5ede82ccc"
      },
      "execution_count": null,
      "outputs": [
        {
          "output_type": "display_data",
          "data": {
            "text/plain": [
              "<Figure size 1000x600 with 1 Axes>"
            ],
            "image/png": "[encoded data removed]"
          },
          "metadata": {}
        }
      ]
    },
    {
      "cell_type": "code",
      "source": [],
      "metadata": {
        "id": "dErubY_OVAZ9"
      },
      "execution_count": null,
      "outputs": []
    },
    {
      "cell_type": "code",
      "source": [
        "import matplotlib.pyplot as plt\n",
        "from sklearn.metrics import classification_report, accuracy_score\n",
        "\n",
        "\n",
        "y_pred_logreg = logreg_model.predict(X_test_tfidf)\n",
        "y_pred_xgb = xgb_model.predict(X_test_tfidf\n",
        "report_logreg = classification_report(y_test, y_pred_logreg, output_dict=True)\n",
        "report_xgb = classification_report(y_test, y_pred_xgb, output_dict=True)\n",
        "\n",
        "# Collecting macro averaged scores\n",
        "logreg_scores = [\n",
        "    accuracy_score(y_test, y_pred_logreg),\n",
        "    report_logreg['macro avg']['precision'],\n",
        "    report_logreg['macro avg']['recall'],\n",
        "    report_logreg['macro avg']['f1-score']\n",
        "]\n",
        "\n",
        "xgb_scores = [\n",
        "    accuracy_score(y_test, y_pred_xgb),\n",
        "    report_xgb['macro avg']['precision'],\n",
        "    report_xgb['macro avg']['recall'],\n",
        "    report_xgb['macro avg']['f1-score']\n",
        "]\n",
        "\n",
        "\n",
        "metrics = ['Accuracy', 'Precision', 'Recall', 'F1-score']\n",
        "x = range(len(metrics))\n",
        "bar_width = 0.35\n",
        "\n",
        "plt.figure(figsize=(8, 6))\n",
        "plt.bar([i - bar_width/2 for i in x], logreg_scores, width=bar_width, label='Logistic Regression')\n",
        "plt.bar([i + bar_width/2 for i in x], xgb_scores, width=bar_width, label='XGBoost')\n",
        "\n",
        "plt.xlabel('Metrics')\n",
        "plt.ylabel('Score')\n",
        "plt.title('Logistic Regression vs XGBoost Performance')\n",
        "plt.xticks(ticks=x, labels=metrics)\n",
        "plt.ylim(0, 1.1)\n",
        "plt.legend()\n",
        "plt.tight_layout()\n",
        "plt.show()\n"
      ],
      "metadata": {
        "colab": {
          "base_uri": "https://localhost:8080/",
          "height": 607
        },
        "id": "9ZKLhpz-VAK3",
        "outputId": "cb96baf7-ec85-4638-f2a4-052aa3c589da"
      },
      "execution_count": null,
      "outputs": [
        {
          "output_type": "display_data",
          "data": {
            "text/plain": [
              "<Figure size 800x600 with 1 Axes>"
            ],
            "image/png": "[encoded data removed]"
          },
          "metadata": {}
        }
      ]
    },
    {
      "cell_type": "code",
      "source": [],
      "metadata": {
        "id": "DUwbRvlmUIEG"
      },
      "execution_count": null,
      "outputs": []
    }
  ]
}